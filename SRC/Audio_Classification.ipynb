{
  "nbformat": 4,
  "nbformat_minor": 0,
  "metadata": {
    "colab": {
      "provenance": [],
      "machine_shape": "hm",
      "gpuType": "V100"
    },
    "kernelspec": {
      "name": "python3",
      "display_name": "Python 3"
    },
    "language_info": {
      "name": "python"
    },
    "accelerator": "GPU"
  },
  "cells": [
    {
      "cell_type": "markdown",
      "source": [
        "# Fine-Tuning the Wav2Vec2 Model for Emotional Classification with the RAVDESS Dataset\n",
        "\n",
        "Used this guide from the keras documentation:\n",
        "https://keras.io/examples/audio/wav2vec2_audiocls/"
      ],
      "metadata": {
        "id": "IIbz2pDnUnkz"
      }
    },
    {
      "cell_type": "code",
      "execution_count": 74,
      "metadata": {
        "id": "Nf-l8mlqK-fd"
      },
      "outputs": [],
      "source": [
        "import random\n",
        "import logging\n",
        "\n",
        "import numpy as np\n",
        "import tensorflow as tf\n",
        "from tensorflow import keras\n",
        "from tensorflow.keras import layers\n",
        "\n",
        "# Only log error messages\n",
        "tf.get_logger().setLevel(logging.ERROR)\n",
        "\n",
        "from tensorflow.keras import mixed_precision\n",
        "mixed_precision.set_global_policy('mixed_float16')"
      ]
    },
    {
      "cell_type": "code",
      "source": [
        "from datasets import load_dataset\n",
        "\n",
        "dataset = load_dataset(\"narad/ravdess\")"
      ],
      "metadata": {
        "id": "FQJ5sRp_yD7t"
      },
      "execution_count": 75,
      "outputs": []
    },
    {
      "cell_type": "code",
      "source": [
        "dataset"
      ],
      "metadata": {
        "colab": {
          "base_uri": "https://localhost:8080/"
        },
        "id": "lzjmMLMX2XpD",
        "outputId": "53b34259-3216-49a6-d502-a27b14780693"
      },
      "execution_count": 43,
      "outputs": [
        {
          "output_type": "execute_result",
          "data": {
            "text/plain": [
              "DatasetDict({\n",
              "    train: Dataset({\n",
              "        features: ['audio', 'text', 'labels', 'speaker_id', 'speaker_gender'],\n",
              "        num_rows: 1440\n",
              "    })\n",
              "})"
            ]
          },
          "metadata": {},
          "execution_count": 43
        }
      ]
    },
    {
      "cell_type": "markdown",
      "source": [
        "# Data Normalization\n",
        "\n",
        "Need to get all samples to the same length, then convert to waveform for input to the model"
      ],
      "metadata": {
        "id": "eAbQOqEnVDJ1"
      }
    },
    {
      "cell_type": "code",
      "source": [
        "def get_max_length(dataset):\n",
        "    max_length = 0\n",
        "    for sample in dataset:\n",
        "        audio_length = len(sample['audio']['array']) / sample['audio']['sampling_rate']\n",
        "        if audio_length > max_length:\n",
        "            max_length = audio_length\n",
        "    return max_length\n",
        "\n",
        "max_length_seconds = get_max_length(dataset['train'])\n",
        "max_length_seconds"
      ],
      "metadata": {
        "colab": {
          "base_uri": "https://localhost:8080/"
        },
        "id": "L8Wk61l_75n5",
        "outputId": "f7d013d0-cb25-4500-85a8-0d8694bbe03e"
      },
      "execution_count": 76,
      "outputs": [
        {
          "output_type": "execute_result",
          "data": {
            "text/plain": [
              "5.2719375"
            ]
          },
          "metadata": {},
          "execution_count": 76
        }
      ]
    },
    {
      "cell_type": "code",
      "source": [
        "# Maximum duration of the input audio file we feed to our Wav2Vec 2.0 model.\n",
        "MAX_DURATION = max_length_seconds\n",
        "# Sampling rate is the number of samples of audio recorded every second\n",
        "SAMPLING_RATE = 16000\n",
        "BATCH_SIZE = 16  # Batch-size for training and evaluating our model.\n",
        "NUM_CLASSES = 8  # Number of classes our dataset will have (11 in our case).\n",
        "HIDDEN_DIM = 768  # Dimension of our model output (768 in case of Wav2Vec 2.0 - Base).\n",
        "MAX_SEQ_LENGTH = int(MAX_DURATION * SAMPLING_RATE)  # Maximum length of the input audio file.\n",
        "# Wav2Vec 2.0 results in an output frequency with a stride of about 20ms.\n",
        "MAX_FRAMES = int(MAX_SEQ_LENGTH / 320)\n",
        "MAX_EPOCHS = 10  # Maximum number of training epochs.\n",
        "\n",
        "MODEL_CHECKPOINT = \"facebook/wav2vec2-base\""
      ],
      "metadata": {
        "id": "vGGQjiDv-R7E"
      },
      "execution_count": 77,
      "outputs": []
    },
    {
      "cell_type": "code",
      "source": [
        "from transformers import AutoFeatureExtractor\n",
        "\n",
        "feature_extractor = AutoFeatureExtractor.from_pretrained(MODEL_CHECKPOINT, return_attention_mask=True)\n",
        "\n",
        "max_length_samples = int(max_length_seconds * feature_extractor.sampling_rate)\n",
        "\n",
        "def preprocess_function(examples):\n",
        "    audio_arrays = [x[\"array\"] for x in examples[\"audio\"]]\n",
        "    inputs = feature_extractor(\n",
        "        audio_arrays,\n",
        "        sampling_rate=feature_extractor.sampling_rate,\n",
        "        padding='max_length',\n",
        "        max_length=MAX_SEQ_LENGTH,\n",
        "        truncation=True\n",
        "    )\n",
        "    return inputs\n",
        "\n",
        "preprocessed_dataset = dataset.map(preprocess_function, remove_columns=[\"audio\", \"text\", \"speaker_id\", \"speaker_gender\"], batched=True)"
      ],
      "metadata": {
        "id": "SEv5ahGD-jjB"
      },
      "execution_count": 78,
      "outputs": []
    },
    {
      "cell_type": "code",
      "source": [
        "preprocessed_dataset"
      ],
      "metadata": {
        "colab": {
          "base_uri": "https://localhost:8080/"
        },
        "id": "3X8Qsh6oIQp8",
        "outputId": "ce4bdbaa-080e-42a6-e8f2-6303292303dd"
      },
      "execution_count": 79,
      "outputs": [
        {
          "output_type": "execute_result",
          "data": {
            "text/plain": [
              "DatasetDict({\n",
              "    train: Dataset({\n",
              "        features: ['labels', 'input_values', 'attention_mask'],\n",
              "        num_rows: 1440\n",
              "    })\n",
              "})"
            ]
          },
          "metadata": {},
          "execution_count": 79
        }
      ]
    },
    {
      "cell_type": "code",
      "source": [
        "from datasets import DatasetDict\n",
        "\n",
        "train_test_split = preprocessed_dataset[\"train\"].train_test_split(test_size=0.2)\n",
        "dataset = DatasetDict({\n",
        "    \"train\": train_test_split[\"train\"],\n",
        "    \"test\": train_test_split[\"test\"]\n",
        "})\n",
        "dataset"
      ],
      "metadata": {
        "colab": {
          "base_uri": "https://localhost:8080/"
        },
        "id": "YD_U1joqIqpZ",
        "outputId": "cfb26482-4a97-46a8-a1f5-308706a9f5e4"
      },
      "execution_count": 80,
      "outputs": [
        {
          "output_type": "execute_result",
          "data": {
            "text/plain": [
              "DatasetDict({\n",
              "    train: Dataset({\n",
              "        features: ['labels', 'input_values', 'attention_mask'],\n",
              "        num_rows: 1152\n",
              "    })\n",
              "    test: Dataset({\n",
              "        features: ['labels', 'input_values', 'attention_mask'],\n",
              "        num_rows: 288\n",
              "    })\n",
              "})"
            ]
          },
          "metadata": {},
          "execution_count": 80
        }
      ]
    },
    {
      "cell_type": "code",
      "source": [
        "def prepare_dataset(data):\n",
        "    def gen():\n",
        "        for i in range(len(data['input_values'])):\n",
        "            yield (\n",
        "                {\"input_values\": data['input_values'][i], \"attention_mask\": data['attention_mask'][i]},\n",
        "                data['labels'][i]\n",
        "            )\n",
        "\n",
        "    return tf.data.Dataset.from_generator(\n",
        "        gen,\n",
        "        output_signature=(\n",
        "            {\"input_values\": tf.TensorSpec(shape=(None,), dtype=tf.float32),\n",
        "             \"attention_mask\": tf.TensorSpec(shape=(None,), dtype=tf.int32)},\n",
        "            tf.TensorSpec(shape=(), dtype=tf.int32)\n",
        "        )\n",
        "    ).batch(BATCH_SIZE)\n",
        "\n",
        "\n",
        "train = dataset[\"train\"].shuffle(seed=42).with_format(\"numpy\")[:]\n",
        "test = dataset[\"test\"].shuffle(seed=42).with_format(\"numpy\")[:]\n",
        "train_dataset = prepare_dataset(train)\n",
        "test_dataset = prepare_dataset(test)\n"
      ],
      "metadata": {
        "id": "2R4XNUwZJCMq"
      },
      "execution_count": 81,
      "outputs": []
    },
    {
      "cell_type": "markdown",
      "source": [
        "# Define the Classification Head"
      ],
      "metadata": {
        "id": "b1yvetD3VSps"
      }
    },
    {
      "cell_type": "code",
      "source": [
        "from transformers import TFWav2Vec2Model\n",
        "\n",
        "\n",
        "def mean_pool(hidden_states, feature_lengths):\n",
        "    feature_lengths = tf.cast(feature_lengths, dtype=hidden_states.dtype)\n",
        "\n",
        "    attention_mask = tf.sequence_mask(\n",
        "        feature_lengths, maxlen=MAX_FRAMES, dtype=hidden_states.dtype\n",
        "    )\n",
        "\n",
        "    padding_mask = tf.cast(\n",
        "        tf.reverse(tf.cumsum(tf.reverse(attention_mask, [-1]), -1), [-1]),\n",
        "        dtype=tf.bool,\n",
        "    )\n",
        "\n",
        "    hidden_states = tf.where(\n",
        "        tf.broadcast_to(\n",
        "            tf.expand_dims(padding_mask, -1),\n",
        "            tf.shape(hidden_states)\n",
        "        ),\n",
        "        hidden_states,\n",
        "        tf.zeros_like(hidden_states)\n",
        "    )\n",
        "\n",
        "    padding_mask = tf.cast(padding_mask, hidden_states.dtype)\n",
        "\n",
        "    pooled_state = tf.math.reduce_sum(hidden_states, axis=1)\n",
        "    feature_length = tf.math.reduce_sum(padding_mask, axis=1)\n",
        "    pooled_state = pooled_state / tf.reshape(feature_length, [-1, 1])\n",
        "\n",
        "    return pooled_state\n",
        "\n",
        "\n",
        "\n",
        "class TFWav2Vec2ForAudioClassification(layers.Layer):\n",
        "    \"\"\"Combines the encoder and decoder into an end-to-end model for training.\"\"\"\n",
        "\n",
        "    def __init__(self, model_checkpoint, num_classes):\n",
        "        super().__init__()\n",
        "        # Instantiate the Wav2Vec 2.0 model without the Classification-Head\n",
        "        self.wav2vec2 = TFWav2Vec2Model.from_pretrained(\n",
        "            model_checkpoint, apply_spec_augment=False, from_pt=True\n",
        "        )\n",
        "        self.pooling = layers.GlobalAveragePooling1D()\n",
        "        # Drop-out layer before the final Classification-Head\n",
        "        self.intermediate_layer_dropout = layers.Dropout(0.5)\n",
        "        # Classification-Head\n",
        "        self.final_layer = layers.Dense(num_classes, activation=\"softmax\")\n",
        "\n",
        "    def call(self, inputs):\n",
        "        # We take only the first output in the returned dictionary corresponding to the\n",
        "        # output of the last layer of Wav2vec 2.0\n",
        "        hidden_states = self.wav2vec2(inputs[\"input_values\"])[0]\n",
        "\n",
        "        # If attention mask does exist then mean-pool only un-masked output frames\n",
        "        if tf.is_tensor(inputs[\"attention_mask\"]):\n",
        "            # Get the length of each audio input by summing up the attention_mask\n",
        "            # (attention_mask = (BATCH_SIZE x MAX_SEQ_LENGTH) ∈ {1,0})\n",
        "            audio_lengths = tf.cumsum(inputs[\"attention_mask\"], -1)[:, -1]\n",
        "            # Get the number of Wav2Vec 2.0 output frames for each corresponding audio input\n",
        "            # length\n",
        "            feature_lengths = self.wav2vec2.wav2vec2._get_feat_extract_output_lengths(\n",
        "                audio_lengths\n",
        "            )\n",
        "            pooled_state = mean_pool(hidden_states, feature_lengths)\n",
        "        # If attention mask does not exist then mean-pool only all output frames\n",
        "        else:\n",
        "            pooled_state = self.pooling(hidden_states)\n",
        "\n",
        "        intermediate_state = self.intermediate_layer_dropout(pooled_state)\n",
        "        final_state = self.final_layer(intermediate_state)\n",
        "\n",
        "        return final_state"
      ],
      "metadata": {
        "id": "aUxxDGSyJHRm"
      },
      "execution_count": 82,
      "outputs": []
    },
    {
      "cell_type": "markdown",
      "source": [
        "# Train the Model\n",
        "\n",
        "We report standard accuracy as well as top 2 accuracy"
      ],
      "metadata": {
        "id": "FEOAi23cV3vX"
      }
    },
    {
      "cell_type": "code",
      "source": [
        "from keras.metrics import SparseCategoricalAccuracy, SparseTopKCategoricalAccuracy\n",
        "\n",
        "def build_model():\n",
        "    # Model's input\n",
        "    inputs = {\n",
        "        \"input_values\": tf.keras.Input(shape=(MAX_SEQ_LENGTH,), dtype=\"float32\"),\n",
        "        \"attention_mask\": tf.keras.Input(shape=(MAX_SEQ_LENGTH,), dtype=\"int32\"),\n",
        "    }\n",
        "    # Instantiate the Wav2Vec 2.0 model with Classification-Head using the desired\n",
        "    # pre-trained checkpoint\n",
        "    wav2vec2_model = TFWav2Vec2ForAudioClassification(MODEL_CHECKPOINT, NUM_CLASSES)(\n",
        "        inputs\n",
        "    )\n",
        "    # Model\n",
        "    model = tf.keras.Model(inputs, wav2vec2_model)\n",
        "    # Loss\n",
        "    loss = tf.keras.losses.SparseCategoricalCrossentropy(from_logits=False)\n",
        "    # Optimizer\n",
        "    optimizer = keras.optimizers.Adam(learning_rate=1e-5)\n",
        "    # Compile and return\n",
        "    model.compile(loss=loss, optimizer=optimizer, metrics=[SparseCategoricalAccuracy(), SparseTopKCategoricalAccuracy(k=2)])\n",
        "    return model\n",
        "\n",
        "\n",
        "model = build_model()"
      ],
      "metadata": {
        "colab": {
          "base_uri": "https://localhost:8080/"
        },
        "id": "62hDl_xdK2hT",
        "outputId": "bd369c0d-7934-421d-b199-8fd2c35799f2"
      },
      "execution_count": 85,
      "outputs": [
        {
          "output_type": "stream",
          "name": "stderr",
          "text": [
            "/usr/local/lib/python3.10/dist-packages/transformers/configuration_utils.py:381: UserWarning: Passing `gradient_checkpointing` to a config initialization is deprecated and will be removed in v5 Transformers. Using `model.gradient_checkpointing_enable()` instead, or if you are using the `Trainer` API, pass `gradient_checkpointing=True` in your `TrainingArguments`.\n",
            "  warnings.warn(\n",
            "\n",
            "TFWav2Vec2Model has backpropagation operations that are NOT supported on CPU. If you wish to train/fine-tune this model, you need a GPU or a TPU\n",
            "Some weights of the PyTorch model were not used when initializing the TF 2.0 model TFWav2Vec2Model: ['quantizer.codevectors', 'quantizer.weight_proj.weight', 'project_hid.bias', 'quantizer.weight_proj.bias', 'project_hid.weight', 'project_q.bias', 'project_q.weight']\n",
            "- This IS expected if you are initializing TFWav2Vec2Model from a PyTorch model trained on another task or with another architecture (e.g. initializing a TFBertForSequenceClassification model from a BertForPreTraining model).\n",
            "- This IS NOT expected if you are initializing TFWav2Vec2Model from a PyTorch model that you expect to be exactly identical (e.g. initializing a TFBertForSequenceClassification model from a BertForSequenceClassification model).\n",
            "All the weights of TFWav2Vec2Model were initialized from the PyTorch model.\n",
            "If your task is similar to the task the model of the checkpoint was trained on, you can already use TFWav2Vec2Model for predictions without further training.\n"
          ]
        }
      ]
    },
    {
      "cell_type": "code",
      "source": [
        "history = model.fit(\n",
        "    train_dataset,\n",
        "    validation_data=test_dataset,\n",
        "    epochs=5,\n",
        "    batch_size=BATCH_SIZE,\n",
        ")"
      ],
      "metadata": {
        "colab": {
          "base_uri": "https://localhost:8080/"
        },
        "id": "yJLVEN-VcUEX",
        "outputId": "ceb31cc0-6a67-4aac-983a-47c1742878bc"
      },
      "execution_count": 92,
      "outputs": [
        {
          "output_type": "stream",
          "name": "stdout",
          "text": [
            "Epoch 1/5\n",
            "72/72 [==============================] - 20s 276ms/step - loss: 0.0737 - sparse_categorical_accuracy: 0.9826 - sparse_top_k_categorical_accuracy: 0.9948 - val_loss: 1.5546 - val_sparse_categorical_accuracy: 0.6389 - val_sparse_top_k_categorical_accuracy: 0.7917\n",
            "Epoch 2/5\n",
            "72/72 [==============================] - 20s 274ms/step - loss: 0.0600 - sparse_categorical_accuracy: 0.9844 - sparse_top_k_categorical_accuracy: 0.9983 - val_loss: 1.6923 - val_sparse_categorical_accuracy: 0.6319 - val_sparse_top_k_categorical_accuracy: 0.7986\n",
            "Epoch 3/5\n",
            "72/72 [==============================] - 20s 273ms/step - loss: 0.0817 - sparse_categorical_accuracy: 0.9835 - sparse_top_k_categorical_accuracy: 0.9948 - val_loss: 1.6893 - val_sparse_categorical_accuracy: 0.6458 - val_sparse_top_k_categorical_accuracy: 0.8194\n",
            "Epoch 4/5\n",
            "72/72 [==============================] - 20s 276ms/step - loss: 0.0601 - sparse_categorical_accuracy: 0.9835 - sparse_top_k_categorical_accuracy: 0.9948 - val_loss: 1.6179 - val_sparse_categorical_accuracy: 0.6493 - val_sparse_top_k_categorical_accuracy: 0.8056\n",
            "Epoch 5/5\n",
            "72/72 [==============================] - 20s 277ms/step - loss: 0.0451 - sparse_categorical_accuracy: 0.9905 - sparse_top_k_categorical_accuracy: 0.9965 - val_loss: 1.5881 - val_sparse_categorical_accuracy: 0.6667 - val_sparse_top_k_categorical_accuracy: 0.8160\n"
          ]
        }
      ]
    },
    {
      "cell_type": "code",
      "source": [
        "from sklearn.metrics import confusion_matrix\n",
        "import matplotlib.pyplot as plt\n",
        "import seaborn as sns\n",
        "\n",
        "emotion_labels = [\"neutral\", \"calm\", \"happy\", \"sad\", \"angry\", \"fearful\", \"disgust\", \"surprised\"]\n",
        "\n",
        "def get_true_labels(dataset):\n",
        "    true_labels = []\n",
        "    for _, labels in dataset:\n",
        "        true_labels.extend(labels.numpy())\n",
        "    return np.array(true_labels)\n",
        "\n",
        "y_pred = model.predict(test_dataset)\n",
        "y_pred_labels = np.argmax(y_pred, axis=1)\n",
        "\n",
        "y_true = get_true_labels(test_dataset)\n",
        "\n",
        "conf_matrix = confusion_matrix(y_true, y_pred_labels)\n",
        "\n",
        "plt.figure(figsize=(10, 8))\n",
        "sns.heatmap(conf_matrix, annot=True, fmt='g', cmap='Blues', xticklabels=emotion_labels, yticklabels=emotion_labels)\n",
        "plt.xlabel('Predicted labels')\n",
        "plt.ylabel('True labels')\n",
        "plt.title('Confusion Matrix')\n",
        "plt.show()"
      ],
      "metadata": {
        "colab": {
          "base_uri": "https://localhost:8080/",
          "height": 735
        },
        "id": "lqYQqqHOTGJB",
        "outputId": "d991e29b-399d-49a3-d913-1589f8ad13df"
      },
      "execution_count": 95,
      "outputs": [
        {
          "output_type": "stream",
          "name": "stdout",
          "text": [
            "18/18 [==============================] - 2s 90ms/step\n"
          ]
        },
        {
          "output_type": "display_data",
          "data": {
            "text/plain": [
              "<Figure size 1000x800 with 2 Axes>"
            ],
            "image/png": "[encoded data removed]"
          },
          "metadata": {}
        }
      ]
    },
    {
      "cell_type": "markdown",
      "source": [
        "# Also Try a Transfer Learning Approach\n",
        "\n",
        "I didn't try too many classification heads, so there is potential for better results. Fine tuning did perform better though."
      ],
      "metadata": {
        "id": "WztRJRkuWH0p"
      }
    },
    {
      "cell_type": "code",
      "source": [
        "class TFWav2Vec2ForAudioClassification_TransferLearning(layers.Layer):\n",
        "    def __init__(self, model_checkpoint, num_classes):\n",
        "        super().__init__()\n",
        "        self.wav2vec2 = TFWav2Vec2Model.from_pretrained(model_checkpoint, apply_spec_augment=False, from_pt=True)\n",
        "        self.wav2vec2.trainable = False  # Freeze the pre-trained model\n",
        "\n",
        "        # Additional layers\n",
        "        self.pooling = layers.GlobalAveragePooling1D()\n",
        "        self.dense1 = layers.Dense(512, activation=\"relu\")\n",
        "        self.dropout1 = layers.Dropout(0.5)\n",
        "        self.dense2 = layers.Dense(256, activation=\"relu\")\n",
        "        self.dropout2 = layers.Dropout(0.5)\n",
        "        self.final_layer = layers.Dense(num_classes, activation=\"softmax\")\n",
        "\n",
        "    def call(self, inputs):\n",
        "        hidden_states = self.wav2vec2(inputs[\"input_values\"])[0]\n",
        "        x = self.pooling(hidden_states)\n",
        "        x = self.dense1(x)\n",
        "        x = self.dropout1(x)\n",
        "        x = self.dense2(x)\n",
        "        x = self.dropout2(x)\n",
        "        return self.final_layer(x)\n"
      ],
      "metadata": {
        "id": "j5vFodtUxS0s"
      },
      "execution_count": 29,
      "outputs": []
    },
    {
      "cell_type": "code",
      "source": [
        "def build_model():\n",
        "    # Model's input\n",
        "    inputs = {\n",
        "        \"input_values\": tf.keras.Input(shape=(MAX_SEQ_LENGTH,), dtype=\"float32\"),\n",
        "        \"attention_mask\": tf.keras.Input(shape=(MAX_SEQ_LENGTH,), dtype=\"int32\"),\n",
        "    }\n",
        "    # Instantiate the Wav2Vec 2.0 model with Classification-Head using the desired\n",
        "    # pre-trained checkpoint\n",
        "    wav2vec2_model = TFWav2Vec2ForAudioClassification_TransferLearning(MODEL_CHECKPOINT, NUM_CLASSES)(\n",
        "        inputs\n",
        "    )\n",
        "    # Model\n",
        "    model = tf.keras.Model(inputs, wav2vec2_model)\n",
        "    # Loss\n",
        "    loss = tf.keras.losses.SparseCategoricalCrossentropy(from_logits=False)\n",
        "    # Optimizer\n",
        "    optimizer = keras.optimizers.Adam()\n",
        "    # Compile and return\n",
        "    model.compile(loss=loss, optimizer=optimizer, metrics=[\"accuracy\"])\n",
        "    return model\n",
        "\n",
        "\n",
        "model = build_model()"
      ],
      "metadata": {
        "colab": {
          "base_uri": "https://localhost:8080/"
        },
        "id": "cs0n6xjLxiSx",
        "outputId": "52c2ecea-5a88-417a-d33b-bc68c707f254"
      },
      "execution_count": 30,
      "outputs": [
        {
          "output_type": "stream",
          "name": "stderr",
          "text": [
            "/usr/local/lib/python3.10/dist-packages/transformers/configuration_utils.py:381: UserWarning: Passing `gradient_checkpointing` to a config initialization is deprecated and will be removed in v5 Transformers. Using `model.gradient_checkpointing_enable()` instead, or if you are using the `Trainer` API, pass `gradient_checkpointing=True` in your `TrainingArguments`.\n",
            "  warnings.warn(\n",
            "\n",
            "TFWav2Vec2Model has backpropagation operations that are NOT supported on CPU. If you wish to train/fine-tune this model, you need a GPU or a TPU\n",
            "Some weights of the PyTorch model were not used when initializing the TF 2.0 model TFWav2Vec2Model: ['project_q.bias', 'quantizer.codevectors', 'project_hid.weight', 'project_hid.bias', 'project_q.weight', 'quantizer.weight_proj.bias', 'quantizer.weight_proj.weight']\n",
            "- This IS expected if you are initializing TFWav2Vec2Model from a PyTorch model trained on another task or with another architecture (e.g. initializing a TFBertForSequenceClassification model from a BertForPreTraining model).\n",
            "- This IS NOT expected if you are initializing TFWav2Vec2Model from a PyTorch model that you expect to be exactly identical (e.g. initializing a TFBertForSequenceClassification model from a BertForSequenceClassification model).\n",
            "All the weights of TFWav2Vec2Model were initialized from the PyTorch model.\n",
            "If your task is similar to the task the model of the checkpoint was trained on, you can already use TFWav2Vec2Model for predictions without further training.\n"
          ]
        }
      ]
    },
    {
      "cell_type": "code",
      "source": [
        "history = model.fit(\n",
        "    train_dataset,\n",
        "    validation_data=test_dataset,\n",
        "    epochs=20,\n",
        "    batch_size=BATCH_SIZE,\n",
        ")"
      ],
      "metadata": {
        "colab": {
          "base_uri": "https://localhost:8080/"
        },
        "id": "jfXrBVyeuxo9",
        "outputId": "8687a375-fdf0-4bd8-ded1-3a62d985e929"
      },
      "execution_count": 31,
      "outputs": [
        {
          "output_type": "stream",
          "name": "stdout",
          "text": [
            "Epoch 1/20\n",
            "72/72 [==============================] - 33s 194ms/step - loss: 2.0670 - accuracy: 0.1753 - val_loss: 1.9365 - val_accuracy: 0.2361\n",
            "Epoch 2/20\n",
            "72/72 [==============================] - 8s 113ms/step - loss: 1.9596 - accuracy: 0.2118 - val_loss: 1.8787 - val_accuracy: 0.2153\n",
            "Epoch 3/20\n",
            "72/72 [==============================] - 8s 113ms/step - loss: 1.9019 - accuracy: 0.2378 - val_loss: 1.8362 - val_accuracy: 0.2778\n",
            "Epoch 4/20\n",
            "72/72 [==============================] - 8s 112ms/step - loss: 1.8700 - accuracy: 0.2639 - val_loss: 1.8277 - val_accuracy: 0.2951\n",
            "Epoch 5/20\n",
            "72/72 [==============================] - 8s 112ms/step - loss: 1.8465 - accuracy: 0.2804 - val_loss: 1.7944 - val_accuracy: 0.2882\n",
            "Epoch 6/20\n",
            "72/72 [==============================] - 8s 112ms/step - loss: 1.8150 - accuracy: 0.2873 - val_loss: 1.7987 - val_accuracy: 0.2569\n",
            "Epoch 7/20\n",
            "72/72 [==============================] - 8s 112ms/step - loss: 1.7937 - accuracy: 0.2812 - val_loss: 1.7655 - val_accuracy: 0.2708\n",
            "Epoch 8/20\n",
            "72/72 [==============================] - 8s 112ms/step - loss: 1.7779 - accuracy: 0.3012 - val_loss: 1.7505 - val_accuracy: 0.2743\n",
            "Epoch 9/20\n",
            "72/72 [==============================] - 8s 113ms/step - loss: 1.7697 - accuracy: 0.3238 - val_loss: 1.7247 - val_accuracy: 0.2743\n",
            "Epoch 10/20\n",
            "72/72 [==============================] - 8s 113ms/step - loss: 1.7380 - accuracy: 0.3056 - val_loss: 1.7323 - val_accuracy: 0.2986\n",
            "Epoch 11/20\n",
            "72/72 [==============================] - 8s 113ms/step - loss: 1.7302 - accuracy: 0.3385 - val_loss: 1.7033 - val_accuracy: 0.3160\n",
            "Epoch 12/20\n",
            "72/72 [==============================] - 8s 113ms/step - loss: 1.7216 - accuracy: 0.3264 - val_loss: 1.6866 - val_accuracy: 0.3160\n",
            "Epoch 13/20\n",
            "72/72 [==============================] - 8s 112ms/step - loss: 1.6790 - accuracy: 0.3628 - val_loss: 1.7422 - val_accuracy: 0.3368\n",
            "Epoch 14/20\n",
            "72/72 [==============================] - 8s 113ms/step - loss: 1.6583 - accuracy: 0.3550 - val_loss: 1.6681 - val_accuracy: 0.3750\n",
            "Epoch 15/20\n",
            "72/72 [==============================] - 8s 111ms/step - loss: 1.6435 - accuracy: 0.3628 - val_loss: 1.6738 - val_accuracy: 0.3715\n",
            "Epoch 16/20\n",
            "72/72 [==============================] - 8s 112ms/step - loss: 1.6439 - accuracy: 0.3620 - val_loss: 1.6579 - val_accuracy: 0.3542\n",
            "Epoch 17/20\n",
            "72/72 [==============================] - 8s 113ms/step - loss: 1.6300 - accuracy: 0.3759 - val_loss: 1.6686 - val_accuracy: 0.3403\n",
            "Epoch 18/20\n",
            "72/72 [==============================] - 8s 112ms/step - loss: 1.5583 - accuracy: 0.3976 - val_loss: 1.6573 - val_accuracy: 0.3646\n",
            "Epoch 19/20\n",
            "72/72 [==============================] - 8s 113ms/step - loss: 1.5656 - accuracy: 0.3889 - val_loss: 1.6552 - val_accuracy: 0.3194\n",
            "Epoch 20/20\n",
            "72/72 [==============================] - 8s 112ms/step - loss: 1.5851 - accuracy: 0.3915 - val_loss: 1.6223 - val_accuracy: 0.3576\n"
          ]
        }
      ]
    }
  ]
}